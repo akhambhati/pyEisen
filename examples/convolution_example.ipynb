{
 "cells": [
  {
   "cell_type": "markdown",
   "id": "7cf9bf61-7338-43fe-acfa-f48cdba0e1ea",
   "metadata": {},
   "source": [
    "# Wavelet Convolution\n",
    "\n",
    "- For a signal $X(t)$, the wavelet transform is defined as:\n",
    "\n",
    "  $X(\\psi _{\\omega,\\sigma}, t) = [\\psi _{\\omega,\\sigma} \\ast X](t)$, where the `*` refers to the [convolution](https://mathworld.wolfram.com/Convolution.html) operator.\n",
    "\n",
    "  A convolution between two vectors $f$ and $g$ is defined as follows:\n",
    "\n",
    "  $[f \\ast g] = \\sum_\\tau{f(t)h(t-\\tau)}$"
   ]
  },
  {
   "cell_type": "code",
   "execution_count": null,
   "id": "10e61d54-b9a3-4b2e-bf96-cbf62e8fdc05",
   "metadata": {},
   "outputs": [],
   "source": [
    "import numpy as np\n",
    "import scipy as sp\n",
    "import matplotlib.pyplot as plt\n",
    "\n",
    "from pyeisen import family\n",
    "from pyeisen.convolve import fconv"
   ]
  },
  {
   "cell_type": "markdown",
   "id": "37364afa-d78d-474e-a5a3-4f94e05fc760",
   "metadata": {},
   "source": [
    "### Define a random time-series signal"
   ]
  },
  {
   "cell_type": "code",
   "execution_count": null,
   "id": "217af14e-ac0c-47c1-b208-97bfdab8c87a",
   "metadata": {},
   "outputs": [],
   "source": [
    "fs = 24                           # Sampling frequecy of hours per day\n",
    "T = np.arange(0, 365*7, 1/fs)     # 7 Years of data\n",
    "X = np.random.randn(len(T), 1)    # 1 channels of random data\n",
    "\n",
    "plt.plot(T, X);\n",
    "plt.xlabel('Time (days)');\n",
    "plt.ylabel('Signal Amplitude');\n",
    "plt.show()"
   ]
  },
  {
   "cell_type": "markdown",
   "id": "272fc445-70fd-441b-93af-5417a18809c1",
   "metadata": {},
   "source": [
    "### Define a family of wavelets to demonstrate convolution"
   ]
  },
  {
   "cell_type": "code",
   "execution_count": null,
   "id": "3c6f1393-f1c0-4125-8ca7-73d755bbe29a",
   "metadata": {},
   "outputs": [],
   "source": [
    "n_kernel = 40\n",
    "c_periods = np.linspace(1/24, 90, n_kernel)     # Define n_kernel center period that are linearly spaced from 1/24 Day (1 hour) to 90 Days.\n",
    "cycles = np.ones(n_kernel) * 3                  # Assign each kernel a unique number of cycles. Here we define each kernel with 3 cycles.\n",
    "\n",
    "morlet_fam = family.morlet(\n",
    "    freqs=1 / c_periods,                        # Specify frequency as the reciprocal of the periods \n",
    "    cycles=cycles,\n",
    "    fs=24.0,                                    # Assume data are sampled hourly (24 samples per day).\n",
    "    n_win=6.5\n",
    ")\n",
    "\n",
    "print('Number of Kernels Defined: {}'.format(morlet_fam_3['kernel'].shape[0]))"
   ]
  },
  {
   "cell_type": "markdown",
   "id": "41ae95bd-054d-48ab-a365-f51d06d1bccd",
   "metadata": {},
   "source": [
    "### Convolve wavelets with test signal\n",
    "\n",
    "- Measure complex-valued, time-varying wavelet coefficients of the signal using wavelet convolution."
   ]
  },
  {
   "cell_type": "code",
   "execution_count": null,
   "id": "22883293-948b-4563-b6a7-d4ee007a479e",
   "metadata": {},
   "outputs": [],
   "source": [
    "print('Convolving X with morlet_fam, using the following parameters...')\n",
    "display(morlet_fam['params'])\n",
    "print(' ')\n",
    "X_wv = fconv(morlet_fam['kernel'].T, X)\n",
    "print('Done.\\n')\n",
    "\n",
    "print('Kernel shape (time x kernels): {}'.format(morlet_fam['kernel'].T.shape))\n",
    "print('Signal shape (time x channels): {}'.format(X.shape))\n",
    "print('Convolved signal shape (time x kernels x channels): {}'.format(X_wv.shape))"
   ]
  },
  {
   "cell_type": "markdown",
   "id": "28eccde6-1d2f-4072-83d7-e34387ef97a6",
   "metadata": {},
   "source": [
    "- Use Euler's Method to extract the instantaneous amplitude and phase angle of each wavelet component from the convolved signal. "
   ]
  },
  {
   "cell_type": "code",
   "execution_count": null,
   "id": "4ff75239-8c5b-416f-9504-8b60e9b71e77",
   "metadata": {},
   "outputs": [],
   "source": [
    "X_wv_amplitude = np.abs(X_wv)\n",
    "X_wv_phase = np.angle(X_wv)\n",
    "\n",
    "print('Amplitude component shape (time x kernels x channels): {}'.format(X_wv_amplitude.shape))\n",
    "print('Phase component shape (time x kernels x channels): {}'.format(X_wv_phase.shape))"
   ]
  },
  {
   "cell_type": "markdown",
   "id": "1ef12cd1-9bf6-4350-a14f-bd911b63fb9e",
   "metadata": {},
   "source": [
    "- Plot the amplitude and phase over time"
   ]
  },
  {
   "cell_type": "code",
   "execution_count": null,
   "id": "359b36ce-e219-4a60-81f7-07b6e4c1c7f9",
   "metadata": {},
   "outputs": [],
   "source": [
    "wv_periods = (1/morlet_fam['params']['freqs'])\n",
    "\n",
    "plt.figure(figsize=(6,4), dpi=300)\n",
    "ax = plt.subplot(211)\n",
    "mat = ax.matshow(X_wv_amplitude[:, :, 0].T, aspect=500)\n",
    "ax.xaxis.set_ticks_position('bottom')\n",
    "ax.set_xticks(np.arange(0, X_wv_amplitude.shape[0], 10000))\n",
    "ax.set_xticklabels([int(t) for t in T[np.arange(0, X_wv_amplitude.shape[0], 10000).astype(int)]])\n",
    "ax.set_xlabel('Signal Time (days)')\n",
    "\n",
    "ax.set_yticks(np.arange(0, X_wv_amplitude.shape[1], 9))\n",
    "ax.set_yticklabels([int(per) for per in wv_periods[np.arange(0, X_wv_amplitude.shape[1], 9).astype(int)]])\n",
    "ax.set_ylabel('Wavelet Cycles (days)')\n",
    "plt.colorbar(mat, ax=ax, label='Wavelet Amplitude')\n",
    "plt.show()"
   ]
  },
  {
   "cell_type": "markdown",
   "id": "01a49c0b-cfee-41d2-a160-6496a53ce4b2",
   "metadata": {},
   "source": [
    "- Calculate and plot time-averaged wavelet power from time-varying wavelet amplitude"
   ]
  },
  {
   "cell_type": "code",
   "execution_count": null,
   "id": "fa8ca671-0e47-4869-8e2e-d77f0509723d",
   "metadata": {},
   "outputs": [],
   "source": [
    "X_wv_pow = np.mean(X_wv_amplitude**2, axis=0)\n",
    "\n",
    "wv_periods = (1/morlet_fam['params']['freqs'])\n",
    "\n",
    "plt.figure()\n",
    "ax = plt.subplot(111)\n",
    "mat = ax.plot(wv_periods, X_wv_pow)\n",
    "ax.set_xlabel('Wavelet Cycles (days)')\n",
    "ax.set_ylabel('Wavelet Power')\n",
    "plt.show()"
   ]
  }
 ],
 "metadata": {
  "kernelspec": {
   "display_name": "Python 3 (ipykernel)",
   "language": "python",
   "name": "python3"
  },
  "language_info": {
   "codemirror_mode": {
    "name": "ipython",
    "version": 3
   },
   "file_extension": ".py",
   "mimetype": "text/x-python",
   "name": "python",
   "nbconvert_exporter": "python",
   "pygments_lexer": "ipython3",
   "version": "3.11.4"
  }
 },
 "nbformat": 4,
 "nbformat_minor": 5
}
